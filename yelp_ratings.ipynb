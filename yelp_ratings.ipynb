{
 "cells": [
  {
   "cell_type": "markdown",
   "metadata": {},
   "source": [
    "# <u>Yelp Rating Prediction Using Tensorflow</u>"
   ]
  },
  {
   "cell_type": "markdown",
   "metadata": {},
   "source": [
    "## **Data Cleaning:**"
   ]
  },
  {
   "cell_type": "markdown",
   "metadata": {},
   "source": [
    "### *Libraries*"
   ]
  },
  {
   "cell_type": "code",
   "execution_count": 1,
   "metadata": {},
   "outputs": [],
   "source": [
    "import numpy as np\n",
    "import pandas as pd\n",
    "import os\n",
    "import sklearn.feature_extraction.text as sk_text\n",
    "import re\n",
    "from nltk.stem import WordNetLemmatizer\n",
    "from nltk.tokenize import word_tokenize\n",
    "from nltk.corpus import stopwords\n"
   ]
  },
  {
   "cell_type": "markdown",
   "metadata": {},
   "source": [
    "### *Functions*"
   ]
  },
  {
   "cell_type": "code",
   "execution_count": 2,
   "metadata": {},
   "outputs": [],
   "source": [
    "# preprocess text function -> if you get nltk error:  open Anaconda prompt -> ipython -> import nltk -> nltk.download('popular') OR command line -> python -m nltk.downloader popular\n",
    "def preprocess_text(text):\n",
    "    lemmatizer = WordNetLemmatizer()\n",
    "    text = text.lower()                 # lowercase\n",
    "    text = re.sub(r'\\d+', '', text)     # remove numbers\n",
    "    text = re.sub(r'[^\\w\\s]', '', text) # remove punctuation\n",
    "    text = re.sub(r'\\s+', ' ', text)    # remove extra whitespace\n",
    "    text = text.strip()                 # remove leading/trailing whitespace\n",
    "    tokens = word_tokenize(text)\n",
    "    stop_words = set(stopwords.words('english'))\n",
    "    filtered_tokens = [word for word in tokens if word not in stop_words]          # remove stopwords\n",
    "    lemmatized_tokens = [lemmatizer.lemmatize(token) for token in filtered_tokens] # lemmatize\n",
    "    filtered_text = ' '.join(lemmatized_tokens)                                    # join back into text\n",
    "    return filtered_text"
   ]
  },
  {
   "cell_type": "markdown",
   "metadata": {},
   "source": [
    "### *Get reviews*"
   ]
  },
  {
   "cell_type": "code",
   "execution_count": 3,
   "metadata": {},
   "outputs": [
    {
     "name": "stdout",
     "output_type": "stream",
     "text": [
      "                review_id                 user_id             business_id  \\\n",
      "0  KU_O5udG6zpxOg-VcAEodg  mh_-eMZ6K5RLWhZyISBhwA  XQfwVwDr-v0ZS3_CbbE5Xw   \n",
      "1  BiTunyQ73aT9WBnpR9DZGw  OyoGAe7OKpv6SyGZT5g77Q  7ATYjTIgM3jUlt4UM3IypQ   \n",
      "2  saUsX_uimxRlCVr67Z4Jig  8g_iMtfSiwikVnbP2etR0A  YjUWPpI6HXG530lwP-fb2A   \n",
      "3  AqPFMleE6RsU23_auESxiA  _7bHUi9Uuf5__HHc_Q8guQ  kxX2SOes4o-D3ZQBkiMRfA   \n",
      "4  Sx8TMOWLNuJBWer-0pcmoA  bcjbaE6dDog4jkNY91ncLQ  e4Vwtrqf-wpJfwesgvdgxQ   \n",
      "\n",
      "   stars  useful  funny  cool  \\\n",
      "0      3       0      0     0   \n",
      "1      5       1      0     1   \n",
      "2      3       0      0     0   \n",
      "3      5       1      0     1   \n",
      "4      4       1      0     1   \n",
      "\n",
      "                                                text                date  \n",
      "0  If you decide to eat here, just be aware it is... 2018-07-07 22:09:11  \n",
      "1  I've taken a lot of spin classes over the year... 2012-01-03 15:28:18  \n",
      "2  Family diner. Had the buffet. Eclectic assortm... 2014-02-05 20:30:30  \n",
      "3  Wow!  Yummy, different,  delicious.   Our favo... 2015-01-04 00:01:03  \n",
      "4  Cute interior and owner (?) gave us tour of up... 2017-01-14 20:54:15  \n"
     ]
    }
   ],
   "source": [
    "df = pd.read_json('data/yelp_academic_dataset_review.json', lines=True, chunksize=1000) # smaller chunksize helps with memory issues\n",
    "df = pd.concat(df)\n",
    "print(df.head())"
   ]
  },
  {
   "cell_type": "markdown",
   "metadata": {},
   "source": [
    "### *Clean reviews of businesses with 20 or more reviews*"
   ]
  },
  {
   "cell_type": "code",
   "execution_count": 4,
   "metadata": {},
   "outputs": [
    {
     "name": "stdout",
     "output_type": "stream",
     "text": [
      "   stars                                               text\n",
      "0      3  If you decide to eat here, just be aware it is...\n",
      "1      2  This is the second time we tried turning point...\n",
      "2      4  The place is cute and the staff was very frien...\n",
      "3      3  We came on a Saturday morning after waiting a ...\n",
      "4      2  Mediocre at best. The decor is very nice, and ...\n"
     ]
    }
   ],
   "source": [
    "# Convert all missing values and zeroes in specified column to median -> from labs with slight modifications\n",
    "def missing_median(df, name):\n",
    "    non_zero_values = df[name][df[name] != 0]\n",
    "    med = non_zero_values.median()\n",
    "    df[name] = df[name].replace(0, med)\n",
    "    df[name] = df[name].fillna(med)\n",
    "\n",
    "business_review_count = df.groupby('business_id').size().reset_index(name='review_count')                        # count reviews for each business\n",
    "businesses_with_20 = business_review_count[business_review_count['review_count'] >= 20]                          # filter businesses with 20 or more reviews\n",
    "df = pd.merge(df, businesses_with_20, on='business_id', how='inner')                                             # merge with reviews to get only reviews for businesses with 20 or more reviews\n",
    "df_businesses = df.copy()                                                                                        # save a copy of the dataframe for 3-5 business analysis\n",
    "df_businesses2 = df.copy()                                                                                       # save a copy of the dataframe for 3-5 business analysis\n",
    "df = df.drop(['business_id', 'review_id', 'user_id', 'funny', 'cool', 'useful', 'date', 'review_count'], axis=1) # drop unnecessary columns\n",
    "missing_median(df, 'stars')                                                                                      # in case there are any reviews with 0 or missing stars, replace with median\n",
    "print(df.head())"
   ]
  },
  {
   "cell_type": "markdown",
   "metadata": {},
   "source": [
    "### *Get five random businesses with 20 or more reviews*"
   ]
  },
  {
   "cell_type": "code",
   "execution_count": 5,
   "metadata": {},
   "outputs": [
    {
     "name": "stdout",
     "output_type": "stream",
     "text": [
      "              business_id                       name  stars  review_count  \\\n",
      "0  Jv8lYSZPxY0rzkSpgo7BIw  Big Boyz Burgers and More    4.0            22   \n",
      "1  7k9qGQyytbGxpJTnwxK6Xg         QDOBA Mexican Eats    3.0            40   \n",
      "2  v_vqna00z6WqKcIJZDkbAw                    C Nails    4.5            61   \n",
      "3  zsQ1_PNV3KN0EWhAE-WV9g  Tohono Chul Garden Bistro    4.0           165   \n",
      "4  v2L2HnZzYvHPgFcVBg2TUw             Summerland Inn    2.0            56   \n",
      "\n",
      "                                          categories  \n",
      "0  American (Traditional), Diners, Breakfast & Br...  \n",
      "1  Restaurants, Event Planning & Services, Mexica...  \n",
      "2   Waxing, Hair Removal, Nail Salons, Beauty & Spas  \n",
      "3  American (New), Venues & Event Spaces, Restaur...  \n",
      "4  Hotels, Hotels & Travel, Bed & Breakfast, Even...  \n"
     ]
    }
   ],
   "source": [
    "path = './business_data/'\n",
    "filename_read = os.path.join(path, 'df_five_businesses_info.csv')\n",
    "if not os.path.exists(filename_read):\n",
    "    df_businesses = df_businesses.drop(['review_id', 'user_id', 'funny', 'cool', 'useful', 'date', 'review_count', 'text', 'stars'], axis=1) # drop unnecessary columns\n",
    "    unique_business_ids = df_businesses['business_id'].unique()                                                                              # get unique business ids\n",
    "    np.random.shuffle(unique_business_ids)                                                                                                   # shuffle the unique business ids\n",
    "    five_unique_business_ids = unique_business_ids[:5]                                                                                       # get first 5 unique business ids\n",
    "    five_unique_ids_df = pd.DataFrame(five_unique_business_ids, columns=['business_id'])                                                     # create a dataframe with the first 5 unique business ids\n",
    "    print('five unique business ids:', five_unique_business_ids)\n",
    "    business_info_df = pd.read_json('data/yelp_academic_dataset_business.json', lines=True, chunksize=1000)                                  # read business info\n",
    "    five_businesses_df = pd.concat([chunk[chunk['business_id'].isin(five_unique_business_ids)] for chunk in business_info_df])\n",
    "    five_businesses_df = five_businesses_df.drop(['address', 'city', 'state', 'postal_code', 'latitude', 'longitude', 'hours', 'attributes', 'is_open'], axis=1)\n",
    "else:\n",
    "    five_businesses_df = pd.read_csv(filename_read)\n",
    "print(five_businesses_df)\n"
   ]
  },
  {
   "cell_type": "markdown",
   "metadata": {},
   "source": [
    "### *Save five businesses' dataframe*"
   ]
  },
  {
   "cell_type": "code",
   "execution_count": 6,
   "metadata": {},
   "outputs": [],
   "source": [
    "path = \"./business_data/\"\n",
    "filename_read = os.path.join(path, \"df_five_businesses_info.csv\")\n",
    "if not os.path.exists(filename_read):\n",
    "    filename_write = os.path.join(path, \"df_five_businesses_info.csv\")\n",
    "    five_businesses_df.to_csv(filename_write, index=False, encoding='utf-8') # using default encoding also worked -> used for next cell but wasn't helpful\n",
    "    print(\"Wrote file to {}\".format(filename_write))"
   ]
  },
  {
   "cell_type": "markdown",
   "metadata": {},
   "source": [
    "### *Separate business reviews by business name*"
   ]
  },
  {
   "cell_type": "code",
   "execution_count": 4,
   "metadata": {},
   "outputs": [
    {
     "name": "stdout",
     "output_type": "stream",
     "text": [
      "              business_id  stars  \\\n",
      "0  Jv8lYSZPxY0rzkSpgo7BIw      5   \n",
      "1  Jv8lYSZPxY0rzkSpgo7BIw      4   \n",
      "2  Jv8lYSZPxY0rzkSpgo7BIw      5   \n",
      "3  Jv8lYSZPxY0rzkSpgo7BIw      5   \n",
      "4  Jv8lYSZPxY0rzkSpgo7BIw      5   \n",
      "\n",
      "                                                text  \\\n",
      "0  The double cheeseburger is delicious. The serv...   \n",
      "1  Tried this spot here while in town on business...   \n",
      "2  I had the pleasure of eating here today for th...   \n",
      "3  Read a review in the Riverfront Times so I dec...   \n",
      "4  I called in my ordered of Special Fried Rice o...   \n",
      "\n",
      "                        name  \n",
      "0  Big Boyz Burgers and More  \n",
      "1  Big Boyz Burgers and More  \n",
      "2  Big Boyz Burgers and More  \n",
      "3  Big Boyz Burgers and More  \n",
      "4  Big Boyz Burgers and More  \n"
     ]
    }
   ],
   "source": [
    "path = './business_data/'\n",
    "filename_read = os.path.join(path, 'df_business1_reviews.csv')\n",
    "if not os.path.exists(filename_read):\n",
    "    reviews_for_five_businesses = df_businesses2[df_businesses2['business_id'].isin(five_unique_business_ids)]\n",
    "    reviews_for_five_businesses = reviews_for_five_businesses.drop(['review_id', 'user_id', 'funny', 'cool', 'useful', 'date', 'review_count'], axis=1)\n",
    "    reviews_with_names_df = reviews_for_five_businesses.merge(five_businesses_df[['business_id', 'name']], on='business_id', how='left')\n",
    "    business_names = reviews_with_names_df['name'].unique()\n",
    "    business1_reviews_df = reviews_with_names_df[reviews_with_names_df['name'] == business_names[0]]\n",
    "    business2_reviews_df = reviews_with_names_df[reviews_with_names_df['name'] == business_names[1]]\n",
    "    business3_reviews_df = reviews_with_names_df[reviews_with_names_df['name'] == business_names[2]]\n",
    "    business4_reviews_df = reviews_with_names_df[reviews_with_names_df['name'] == business_names[3]]\n",
    "    business5_reviews_df = reviews_with_names_df[reviews_with_names_df['name'] == business_names[4]]\n",
    "else:\n",
    "    filename_read = os.path.join(path, 'df_business1_reviews.csv')\n",
    "    business1_reviews_df = pd.read_csv(filename_read)\n",
    "    filename_read = os.path.join(path, 'df_business2_reviews.csv')\n",
    "    business2_reviews_df = pd.read_csv(filename_read)\n",
    "    filename_read = os.path.join(path, 'df_business3_reviews.csv')\n",
    "    business3_reviews_df = pd.read_csv(filename_read)\n",
    "    filename_read = os.path.join(path, 'df_business4_reviews.csv')\n",
    "    business4_reviews_df = pd.read_csv(filename_read)\n",
    "    filename_read = os.path.join(path, 'df_business5_reviews.csv')\n",
    "    business5_reviews_df = pd.read_csv(filename_read)\n",
    "print(business1_reviews_df.head())"
   ]
  },
  {
   "cell_type": "code",
   "execution_count": 5,
   "metadata": {},
   "outputs": [
    {
     "name": "stdout",
     "output_type": "stream",
     "text": [
      "              business_id  stars  \\\n",
      "0  7k9qGQyytbGxpJTnwxK6Xg      5   \n",
      "1  7k9qGQyytbGxpJTnwxK6Xg      2   \n",
      "2  7k9qGQyytbGxpJTnwxK6Xg      5   \n",
      "3  7k9qGQyytbGxpJTnwxK6Xg      5   \n",
      "4  7k9qGQyytbGxpJTnwxK6Xg      2   \n",
      "\n",
      "                                                text                name  \n",
      "0  Just like Chipotle! Food was great, very filli...  QDOBA Mexican Eats  \n",
      "1  I love Qdoba but this is kinda dirty, especial...  QDOBA Mexican Eats  \n",
      "2  Best burrito place in the world. Better than a...  QDOBA Mexican Eats  \n",
      "3  I like it.  the enviornment is clean and food ...  QDOBA Mexican Eats  \n",
      "4  I eat here often and i love their tacos, but t...  QDOBA Mexican Eats  \n"
     ]
    }
   ],
   "source": [
    "print(business2_reviews_df.head())"
   ]
  },
  {
   "cell_type": "code",
   "execution_count": 6,
   "metadata": {},
   "outputs": [
    {
     "name": "stdout",
     "output_type": "stream",
     "text": [
      "              business_id  stars  \\\n",
      "0  v_vqna00z6WqKcIJZDkbAw      5   \n",
      "1  v_vqna00z6WqKcIJZDkbAw      1   \n",
      "2  v_vqna00z6WqKcIJZDkbAw      5   \n",
      "3  v_vqna00z6WqKcIJZDkbAw      5   \n",
      "4  v_vqna00z6WqKcIJZDkbAw      5   \n",
      "\n",
      "                                                text     name  \n",
      "0  I was looking for a new salon in the Westchase...  C Nails  \n",
      "1  Horrible service, had to go to another salon t...  C Nails  \n",
      "2  Great gel manicures! Current one is going on o...  C Nails  \n",
      "3  I have only gotten their shellac manicure so f...  C Nails  \n",
      "4  After reading reviews and looking around I fou...  C Nails  \n"
     ]
    }
   ],
   "source": [
    "print(business3_reviews_df.head())"
   ]
  },
  {
   "cell_type": "code",
   "execution_count": 7,
   "metadata": {},
   "outputs": [
    {
     "name": "stdout",
     "output_type": "stream",
     "text": [
      "              business_id  stars  \\\n",
      "0  zsQ1_PNV3KN0EWhAE-WV9g      3   \n",
      "1  zsQ1_PNV3KN0EWhAE-WV9g      4   \n",
      "2  zsQ1_PNV3KN0EWhAE-WV9g      5   \n",
      "3  zsQ1_PNV3KN0EWhAE-WV9g      3   \n",
      "4  zsQ1_PNV3KN0EWhAE-WV9g      5   \n",
      "\n",
      "                                                text  \\\n",
      "0  If you're looking for a restaurant to bring ou...   \n",
      "1  We decided to try again recently,and things ar...   \n",
      "2  We came across this brunch place & absolutely ...   \n",
      "3  Great atmosphere and food was flavorful. But t...   \n",
      "4  This is my favorite brunch place for sure! The...   \n",
      "\n",
      "                        name  \n",
      "0  Tohono Chul Garden Bistro  \n",
      "1  Tohono Chul Garden Bistro  \n",
      "2  Tohono Chul Garden Bistro  \n",
      "3  Tohono Chul Garden Bistro  \n",
      "4  Tohono Chul Garden Bistro  \n"
     ]
    }
   ],
   "source": [
    "print(business4_reviews_df.head())"
   ]
  },
  {
   "cell_type": "code",
   "execution_count": 8,
   "metadata": {},
   "outputs": [
    {
     "name": "stdout",
     "output_type": "stream",
     "text": [
      "              business_id  stars  \\\n",
      "0  v2L2HnZzYvHPgFcVBg2TUw      1   \n",
      "1  v2L2HnZzYvHPgFcVBg2TUw      1   \n",
      "2  v2L2HnZzYvHPgFcVBg2TUw      5   \n",
      "3  v2L2HnZzYvHPgFcVBg2TUw      3   \n",
      "4  v2L2HnZzYvHPgFcVBg2TUw      5   \n",
      "\n",
      "                                                text            name  \n",
      "0  I stayed one night here and I will never come ...  Summerland Inn  \n",
      "1  Things wrong with this room: large spider webs...  Summerland Inn  \n",
      "2  I like the place. It's got character. It was 1...  Summerland Inn  \n",
      "3  This place is interesting. It's very cute outs...  Summerland Inn  \n",
      "4  The Summerland Inn is so beautiful, and the ow...  Summerland Inn  \n"
     ]
    }
   ],
   "source": [
    "print(business5_reviews_df.head())"
   ]
  },
  {
   "cell_type": "markdown",
   "metadata": {},
   "source": [
    "### *Save individual business review dataframes*"
   ]
  },
  {
   "cell_type": "code",
   "execution_count": 9,
   "metadata": {},
   "outputs": [],
   "source": [
    "path = './business_data/'\n",
    "filename_read = os.path.join(path, 'df_business1_reviews.csv')\n",
    "if not os.path.exists(filename_read):\n",
    "    filename_write = os.path.join(path, \"df_business1_reviews.csv\")\n",
    "    business1_reviews_df.to_csv(filename_write, index=False, encoding='utf-8')\n",
    "    print(\"Wrote file to {}\".format(filename_write))\n",
    "    filename_write = os.path.join(path, \"df_business2_reviews.csv\")\n",
    "    business2_reviews_df.to_csv(filename_write, index=False, encoding='utf-8')\n",
    "    print(\"Wrote file to {}\".format(filename_write))\n",
    "    filename_write = os.path.join(path, \"df_business3_reviews.csv\")\n",
    "    business3_reviews_df.to_csv(filename_write, index=False, encoding='utf-8')\n",
    "    print(\"Wrote file to {}\".format(filename_write))\n",
    "    filename_write = os.path.join(path, \"df_business4_reviews.csv\")\n",
    "    business4_reviews_df.to_csv(filename_write, index=False, encoding='utf-8')\n",
    "    print(\"Wrote file to {}\".format(filename_write))\n",
    "    filename_write = os.path.join(path, \"df_business5_reviews.csv\")\n",
    "    business5_reviews_df.to_csv(filename_write, index=False, encoding='utf-8')\n",
    "    print(\"Wrote file to {}\".format(filename_write))"
   ]
  },
  {
   "cell_type": "markdown",
   "metadata": {},
   "source": [
    "### *Process text of business1 reviews and save for model*"
   ]
  },
  {
   "cell_type": "code",
   "execution_count": 10,
   "metadata": {},
   "outputs": [
    {
     "name": "stdout",
     "output_type": "stream",
     "text": [
      "              business_id  stars                       name  \\\n",
      "0  Jv8lYSZPxY0rzkSpgo7BIw      5  Big Boyz Burgers and More   \n",
      "1  Jv8lYSZPxY0rzkSpgo7BIw      4  Big Boyz Burgers and More   \n",
      "2  Jv8lYSZPxY0rzkSpgo7BIw      5  Big Boyz Burgers and More   \n",
      "3  Jv8lYSZPxY0rzkSpgo7BIw      5  Big Boyz Burgers and More   \n",
      "4  Jv8lYSZPxY0rzkSpgo7BIw      5  Big Boyz Burgers and More   \n",
      "\n",
      "                                      processed_text  \n",
      "0  double cheeseburger delicious service welcomin...  \n",
      "1  tried spot town business great burger hand for...  \n",
      "2  pleasure eating today first time honestly one ...  \n",
      "3  read review riverfront time decided swing cuti...  \n",
      "4  called ordered special fried rice saturday tol...  \n"
     ]
    }
   ],
   "source": [
    "path = \"./business_data/\"\n",
    "filename_read = os.path.join(path, \"df_business1_reviews_processed.csv\")\n",
    "if not os.path.exists(filename_read):\n",
    "    business1_reviews_df['processed_text'] = business1_reviews_df['text'].apply(preprocess_text)\n",
    "    business1_reviews_df = business1_reviews_df.drop('text', axis=1)\n",
    "    filename_write = os.path.join(path, \"df_business1_reviews_processed.csv\")\n",
    "    business1_reviews_df.to_csv(filename_write, index=False, encoding='utf-8')\n",
    "    print(\"Wrote file to {}\".format(filename_write))\n",
    "else:\n",
    "    filename_read = os.path.join(path, \"df_business1_reviews_processed.csv\")\n",
    "    business1_reviews_df = pd.read_csv(filename_read)\n",
    "print(business1_reviews_df.head())"
   ]
  },
  {
   "cell_type": "markdown",
   "metadata": {},
   "source": [
    "### *Process text of business2 reviews and save for model*"
   ]
  },
  {
   "cell_type": "code",
   "execution_count": 11,
   "metadata": {},
   "outputs": [
    {
     "name": "stdout",
     "output_type": "stream",
     "text": [
      "              business_id  stars                name  \\\n",
      "0  7k9qGQyytbGxpJTnwxK6Xg      5  QDOBA Mexican Eats   \n",
      "1  7k9qGQyytbGxpJTnwxK6Xg      2  QDOBA Mexican Eats   \n",
      "2  7k9qGQyytbGxpJTnwxK6Xg      5  QDOBA Mexican Eats   \n",
      "3  7k9qGQyytbGxpJTnwxK6Xg      5  QDOBA Mexican Eats   \n",
      "4  7k9qGQyytbGxpJTnwxK6Xg      2  QDOBA Mexican Eats   \n",
      "\n",
      "                                      processed_text  \n",
      "0  like chipotle food great filling tasty got qui...  \n",
      "1  love qdoba kinda dirty especially behind count...  \n",
      "2  best burrito place world better real mexican p...  \n",
      "3  like enviornment clean food fresh taco salad g...  \n",
      "4  eat often love taco girl checkout counter toda...  \n"
     ]
    }
   ],
   "source": [
    "path = \"./business_data/\"\n",
    "filename_read = os.path.join(path, \"df_business2_reviews_processed.csv\")\n",
    "if not os.path.exists(filename_read):\n",
    "    business2_reviews_df['processed_text'] = business2_reviews_df['text'].apply(preprocess_text)\n",
    "    business2_reviews_df = business2_reviews_df.drop('text', axis=1)\n",
    "    filename_write = os.path.join(path, \"df_business2_reviews_processed.csv\")\n",
    "    business2_reviews_df.to_csv(filename_write, index=False, encoding='utf-8')\n",
    "    print(\"Wrote file to {}\".format(filename_write))\n",
    "else:\n",
    "    filename_read = os.path.join(path, \"df_business2_reviews_processed.csv\")\n",
    "    business2_reviews_df = pd.read_csv(filename_read)\n",
    "print(business2_reviews_df.head())"
   ]
  },
  {
   "cell_type": "markdown",
   "metadata": {},
   "source": [
    "### *Process text of business3 reviews and save for model*"
   ]
  },
  {
   "cell_type": "code",
   "execution_count": 12,
   "metadata": {},
   "outputs": [
    {
     "name": "stdout",
     "output_type": "stream",
     "text": [
      "              business_id  stars     name  \\\n",
      "0  v_vqna00z6WqKcIJZDkbAw      5  C Nails   \n",
      "1  v_vqna00z6WqKcIJZDkbAw      1  C Nails   \n",
      "2  v_vqna00z6WqKcIJZDkbAw      5  C Nails   \n",
      "3  v_vqna00z6WqKcIJZDkbAw      5  C Nails   \n",
      "4  v_vqna00z6WqKcIJZDkbAw      5  C Nails   \n",
      "\n",
      "                                      processed_text  \n",
      "0  looking new salon westchase area reading revie...  \n",
      "1  horrible service go another salon next day get...  \n",
      "2  great gel manicure current one going week stil...  \n",
      "3  gotten shellac manicure far three time though ...  \n",
      "4  reading review looking around found salon qt a...  \n"
     ]
    }
   ],
   "source": [
    "path = \"./business_data/\"\n",
    "filename_read = os.path.join(path, \"df_business3_reviews_processed.csv\")\n",
    "if not os.path.exists(filename_read):\n",
    "    business3_reviews_df['processed_text'] = business3_reviews_df['text'].apply(preprocess_text)\n",
    "    business3_reviews_df = business3_reviews_df.drop('text', axis=1)\n",
    "    filename_write = os.path.join(path, \"df_business3_reviews_processed.csv\")\n",
    "    business3_reviews_df.to_csv(filename_write, index=False, encoding='utf-8')\n",
    "    print(\"Wrote file to {}\".format(filename_write))\n",
    "else:\n",
    "    filename_read = os.path.join(path, \"df_business3_reviews_processed.csv\")\n",
    "    business3_reviews_df = pd.read_csv(filename_read)\n",
    "print(business3_reviews_df.head())"
   ]
  },
  {
   "cell_type": "markdown",
   "metadata": {},
   "source": [
    "### *Process text of business4 reviews and save for model*"
   ]
  },
  {
   "cell_type": "code",
   "execution_count": 13,
   "metadata": {},
   "outputs": [
    {
     "name": "stdout",
     "output_type": "stream",
     "text": [
      "              business_id  stars                       name  \\\n",
      "0  zsQ1_PNV3KN0EWhAE-WV9g      3  Tohono Chul Garden Bistro   \n",
      "1  zsQ1_PNV3KN0EWhAE-WV9g      4  Tohono Chul Garden Bistro   \n",
      "2  zsQ1_PNV3KN0EWhAE-WV9g      5  Tohono Chul Garden Bistro   \n",
      "3  zsQ1_PNV3KN0EWhAE-WV9g      3  Tohono Chul Garden Bistro   \n",
      "4  zsQ1_PNV3KN0EWhAE-WV9g      5  Tohono Chul Garden Bistro   \n",
      "\n",
      "                                      processed_text  \n",
      "0  youre looking restaurant bring town guest good...  \n",
      "1  decided try recentlyand thing looking kitchen ...  \n",
      "2  came across brunch place absolutely loved scen...  \n",
      "3  great atmosphere food flavorful older hostess ...  \n",
      "4  favorite brunch place sure prickly pear mimosa...  \n"
     ]
    }
   ],
   "source": [
    "path = \"./business_data/\"\n",
    "filename_read = os.path.join(path, \"df_business4_reviews_processed.csv\")\n",
    "if not os.path.exists(filename_read):\n",
    "    business4_reviews_df['processed_text'] = business4_reviews_df['text'].apply(preprocess_text)\n",
    "    business4_reviews_df = business4_reviews_df.drop('text', axis=1)\n",
    "    filename_write = os.path.join(path, \"df_business4_reviews_processed.csv\")\n",
    "    business4_reviews_df.to_csv(filename_write, index=False, encoding='utf-8')\n",
    "    print(\"Wrote file to {}\".format(filename_write))\n",
    "else:\n",
    "    filename_read = os.path.join(path, \"df_business4_reviews_processed.csv\")\n",
    "    business4_reviews_df = pd.read_csv(filename_read)\n",
    "print(business4_reviews_df.head())"
   ]
  },
  {
   "cell_type": "markdown",
   "metadata": {},
   "source": [
    "### *Process text of business5 reviews and save for model*"
   ]
  },
  {
   "cell_type": "code",
   "execution_count": 14,
   "metadata": {},
   "outputs": [
    {
     "name": "stdout",
     "output_type": "stream",
     "text": [
      "              business_id  stars            name  \\\n",
      "0  v2L2HnZzYvHPgFcVBg2TUw      1  Summerland Inn   \n",
      "1  v2L2HnZzYvHPgFcVBg2TUw      1  Summerland Inn   \n",
      "2  v2L2HnZzYvHPgFcVBg2TUw      5  Summerland Inn   \n",
      "3  v2L2HnZzYvHPgFcVBg2TUw      3  Summerland Inn   \n",
      "4  v2L2HnZzYvHPgFcVBg2TUw      5  Summerland Inn   \n",
      "\n",
      "                                      processed_text  \n",
      "0  stayed one night never come back toilet didnt ...  \n",
      "1  thing wrong room large spider web outside room...  \n",
      "2  like place got character degree outside weeken...  \n",
      "3  place interesting cute outside cottage looking...  \n",
      "4  summerland inn beautiful owner mayis sweet lad...  \n"
     ]
    }
   ],
   "source": [
    "path = \"./business_data/\"\n",
    "filename_read = os.path.join(path, \"df_business5_reviews_processed.csv\")\n",
    "if not os.path.exists(filename_read):\n",
    "    business5_reviews_df['processed_text'] = business5_reviews_df['text'].apply(preprocess_text)\n",
    "    business5_reviews_df = business5_reviews_df.drop('text', axis=1)\n",
    "    filename_write = os.path.join(path, \"df_business5_reviews_processed.csv\")\n",
    "    business5_reviews_df.to_csv(filename_write, index=False, encoding='utf-8')\n",
    "    print(\"Wrote file to {}\".format(filename_write))\n",
    "else:\n",
    "    filename_read = os.path.join(path, \"df_business5_reviews_processed.csv\")\n",
    "    business5_reviews_df = pd.read_csv(filename_read)\n",
    "print(business5_reviews_df.head())"
   ]
  },
  {
   "cell_type": "markdown",
   "metadata": {},
   "source": [
    "### *Preprocess reviews*"
   ]
  },
  {
   "cell_type": "code",
   "execution_count": 18,
   "metadata": {},
   "outputs": [
    {
     "name": "stdout",
     "output_type": "stream",
     "text": [
      "   stars                                  preprocessed_text\n",
      "0      3  decide eat aware going take hour beginning end...\n",
      "1      2  second time tried turning point location first...\n",
      "2      4  place cute staff friendly nice menu good brunc...\n",
      "3      3  came saturday morning waiting month opening ho...\n",
      "4      2  mediocre best decor nice like restaurant tryin...\n"
     ]
    }
   ],
   "source": [
    "df['preprocessed_text'] = df['text'].apply(preprocess_text) # apply preprocess_text function to text column\n",
    "df = df.drop('text', axis=1)                                # drop original text column\n",
    "print(df.head())"
   ]
  },
  {
   "cell_type": "markdown",
   "metadata": {},
   "source": [
    "### *Save preprocessed dataframe*"
   ]
  },
  {
   "cell_type": "code",
   "execution_count": 19,
   "metadata": {},
   "outputs": [
    {
     "name": "stdout",
     "output_type": "stream",
     "text": [
      "Wrote file to ./data/df_preprocessed.csv\n"
     ]
    }
   ],
   "source": [
    "path = \"./data/\"\n",
    "filename_write = os.path.join(path, \"df_preprocessed.csv\")\n",
    "df.to_csv(filename_write, index=False, encoding='utf-8') # using default encoding also worked -> used for next cell but wasn't helpful\n",
    "print(\"Wrote file to {}\".format(filename_write))"
   ]
  },
  {
   "cell_type": "markdown",
   "metadata": {},
   "source": [
    "### *Optional start point*"
   ]
  },
  {
   "cell_type": "code",
   "execution_count": 20,
   "metadata": {},
   "outputs": [
    {
     "data": {
      "text/plain": [
       "'path = \"./data/\"\\nfilename_read = os.path.join(path, \"df_preprocessed.csv\")\\ndf = pd.read_csv(filename_read)'"
      ]
     },
     "execution_count": 20,
     "metadata": {},
     "output_type": "execute_result"
    }
   ],
   "source": [
    "# Havent figured this out yet.  I tried loading the csv file but I get an error in the next cell.  Tried different encoding but didn't work either.  Will try again later maybe.\n",
    "# Would be a nice starting point for the next step of the project because preprocessing take awhile.\n",
    "'''path = \"./data/\"\n",
    "filename_read = os.path.join(path, \"df_preprocessed.csv\")\n",
    "df = pd.read_csv(filename_read)'''"
   ]
  },
  {
   "cell_type": "markdown",
   "metadata": {},
   "source": [
    "### *Vectorize reviews*"
   ]
  },
  {
   "cell_type": "code",
   "execution_count": 27,
   "metadata": {},
   "outputs": [
    {
     "name": "stdout",
     "output_type": "stream",
     "text": [
      "shape: (6146631, 400)\n",
      "[[0. 0. 0. ... 0. 0. 0.]\n",
      " [0. 0. 0. ... 0. 0. 0.]\n",
      " [0. 0. 0. ... 0. 0. 0.]\n",
      " ...\n",
      " [0. 0. 0. ... 0. 0. 0.]\n",
      " [0. 0. 0. ... 0. 0. 0.]\n",
      " [0. 0. 0. ... 0. 0. 0.]]\n"
     ]
    }
   ],
   "source": [
    "vectorizer = sk_text.TfidfVectorizer(max_features=400, dtype=np.float32) # can adjust max_features if encounter memory issues; dtype to reduce memory usage -> defaults to float64\n",
    "corpus = df['preprocessed_text']                                         # put preprocessed text into corpus\n",
    "matrix = vectorizer.fit_transform(corpus)                                # fit and transform the corpus\n",
    "tfidf_data = matrix.toarray()                                            # convert matrix to array\n",
    "print('shape:', tfidf_data.shape)\n",
    "print(tfidf_data)\n"
   ]
  },
  {
   "cell_type": "markdown",
   "metadata": {},
   "source": [
    "### *Feature names*"
   ]
  },
  {
   "cell_type": "code",
   "execution_count": 28,
   "metadata": {},
   "outputs": [
    {
     "name": "stdout",
     "output_type": "stream",
     "text": [
      "['able' 'absolutely' 'actually' 'almost' 'also' 'always' 'amazing'\n",
      " 'amount' 'another' 'anyone' 'anything' 'appetizer' 'area' 'around'\n",
      " 'arrived' 'ask' 'asked' 'atmosphere' 'attentive' 'away' 'awesome' 'back'\n",
      " 'bacon' 'bad' 'bar' 'bartender' 'bbq' 'bean' 'beautiful' 'beef' 'beer'\n",
      " 'best' 'better' 'big' 'bit' 'bite' 'bowl' 'bread' 'breakfast' 'bring'\n",
      " 'brought' 'brunch' 'burger' 'business' 'busy' 'cake' 'call' 'called'\n",
      " 'came' 'cant' 'car' 'care' 'check' 'cheese' 'chicken' 'chip' 'chocolate'\n",
      " 'choice' 'city' 'clean' 'close' 'cocktail' 'coffee' 'cold' 'come'\n",
      " 'coming' 'cooked' 'cool' 'could' 'couldnt' 'couple' 'course' 'crab'\n",
      " 'cream' 'customer' 'cut' 'day' 'deal' 'decent' 'decided' 'definitely'\n",
      " 'delicious' 'dessert' 'didnt' 'different' 'dining' 'dinner'\n",
      " 'disappointed' 'dish' 'doesnt' 'dog' 'done' 'dont' 'door' 'drink' 'eat'\n",
      " 'eating' 'egg' 'either' 'else' 'employee' 'end' 'enjoy' 'enjoyed'\n",
      " 'enough' 'entree' 'especially' 'even' 'ever' 'every' 'everyone'\n",
      " 'everything' 'excellent' 'experience' 'extra' 'extremely' 'family' 'fan'\n",
      " 'fantastic' 'far' 'fast' 'favorite' 'feel' 'felt' 'finally' 'find' 'fine'\n",
      " 'first' 'fish' 'flavor' 'food' 'found' 'free' 'french' 'fresh' 'fried'\n",
      " 'friend' 'friendly' 'front' 'fry' 'full' 'fun' 'gave' 'get' 'getting'\n",
      " 'give' 'go' 'going' 'good' 'got' 'great' 'green' 'group' 'guy' 'hair'\n",
      " 'half' 'hand' 'happy' 'hard' 'help' 'helpful' 'high' 'highly' 'home'\n",
      " 'hot' 'hotel' 'hour' 'house' 'however' 'huge' 'husband' 'ice' 'id' 'ill'\n",
      " 'im' 'inside' 'instead' 'isnt' 'issue' 'item' 'ive' 'job' 'keep' 'kid'\n",
      " 'kind' 'know' 'large' 'last' 'later' 'le' 'least' 'leave' 'left' 'let'\n",
      " 'light' 'like' 'line' 'little' 'live' 'local' 'location' 'long' 'look'\n",
      " 'looked' 'looking' 'lot' 'love' 'loved' 'lunch' 'made' 'make' 'making'\n",
      " 'manager' 'many' 'may' 'maybe' 'meal' 'meat' 'menu' 'minute' 'money'\n",
      " 'month' 'much' 'music' 'must' 'nail' 'name' 'need' 'needed' 'never' 'new'\n",
      " 'next' 'nice' 'night' 'nothing' 'offer' 'oh' 'ok' 'old' 'one' 'onion'\n",
      " 'open' 'option' 'order' 'ordered' 'outside' 'overall' 'owner' 'parking'\n",
      " 'part' 'party' 'pay' 'people' 'perfect' 'perfectly' 'person' 'philly'\n",
      " 'phone' 'pick' 'piece' 'pizza' 'place' 'plate' 'pm' 'point' 'pork'\n",
      " 'portion' 'potato' 'pretty' 'price' 'probably' 'problem' 'put' 'quality'\n",
      " 'quick' 'quickly' 'quite' 'really' 'reason' 'recommend' 'red' 'regular'\n",
      " 'reservation' 'restaurant' 'return' 'review' 'rice' 'right' 'roll' 'room'\n",
      " 'rude' 'said' 'salad' 'sandwich' 'sat' 'sauce' 'saw' 'say' 'seated'\n",
      " 'seating' 'second' 'see' 'seemed' 'selection' 'served' 'server' 'service'\n",
      " 'several' 'shop' 'shrimp' 'side' 'since' 'sit' 'size' 'small' 'someone'\n",
      " 'something' 'soup' 'special' 'spicy' 'spot' 'st' 'staff' 'star' 'start'\n",
      " 'started' 'stay' 'steak' 'still' 'stop' 'stopped' 'store' 'street'\n",
      " 'super' 'sure' 'sushi' 'sweet' 'table' 'taco' 'take' 'taste' 'tasted'\n",
      " 'tasty' 'tea' 'tell' 'thank' 'thats' 'there' 'thing' 'think' 'though'\n",
      " 'thought' 'three' 'time' 'today' 'told' 'took' 'top' 'town' 'tried'\n",
      " 'trip' 'try' 'trying' 'two' 'use' 'used' 'usually' 'visit' 'wait'\n",
      " 'waited' 'waiter' 'waiting' 'waitress' 'walk' 'walked' 'want' 'wanted'\n",
      " 'wasnt' 'water' 'way' 'week' 'well' 'went' 'whole' 'wife' 'wine' 'wing'\n",
      " 'wish' 'without' 'wonderful' 'wont' 'work' 'working' 'worth' 'would'\n",
      " 'wouldnt' 'wrong' 'year' 'yet' 'youre']\n"
     ]
    }
   ],
   "source": [
    "feature_names = vectorizer.get_feature_names_out()\n",
    "print(feature_names)"
   ]
  },
  {
   "cell_type": "markdown",
   "metadata": {},
   "source": [
    "### *Concatenate stars and matrix into new dataframe*"
   ]
  },
  {
   "cell_type": "code",
   "execution_count": 29,
   "metadata": {},
   "outputs": [
    {
     "name": "stdout",
     "output_type": "stream",
     "text": [
      "   stars    0    1    2    3    4    5    6    7         8  ...  390  391  \\\n",
      "0      3  0.0  0.0  0.0  0.0  0.0  0.0  0.0  0.0  0.168147  ...  0.0  0.0   \n",
      "1      2  0.0  0.0  0.0  0.0  0.0  0.0  0.0  0.0  0.000000  ...  0.0  0.0   \n",
      "2      4  0.0  0.0  0.0  0.0  0.0  0.0  0.0  0.0  0.207039  ...  0.0  0.0   \n",
      "3      3  0.0  0.0  0.0  0.0  0.0  0.0  0.0  0.0  0.128253  ...  0.0  0.0   \n",
      "4      2  0.0  0.0  0.0  0.0  0.0  0.0  0.0  0.0  0.000000  ...  0.0  0.0   \n",
      "\n",
      "   392       393       394  395       396  397  398  399  \n",
      "0  0.0  0.000000  0.000000  0.0  0.000000  0.0  0.0  0.0  \n",
      "1  0.0  0.000000  0.000000  0.0  0.000000  0.0  0.0  0.0  \n",
      "2  0.0  0.000000  0.000000  0.0  0.000000  0.0  0.0  0.0  \n",
      "3  0.0  0.000000  0.090665  0.0  0.000000  0.0  0.0  0.0  \n",
      "4  0.0  0.117374  0.000000  0.0  0.139791  0.0  0.0  0.0  \n",
      "\n",
      "[5 rows x 401 columns]\n"
     ]
    }
   ],
   "source": [
    "assert len(df) == tfidf_data.shape[0], \"Number of rows in dataframe does not match number of rows in matrix.\" # check number of rows in dataframe equals number of rows in tfidf matrix\n",
    "df_data = pd.concat([df[['stars']], pd.DataFrame(tfidf_data)], axis=1)                                        # concatenate stars column with tfidf matrix\n",
    "print(df_data.head())"
   ]
  },
  {
   "cell_type": "markdown",
   "metadata": {},
   "source": [
    "### *Add featured names into dataframe*"
   ]
  },
  {
   "cell_type": "code",
   "execution_count": 30,
   "metadata": {},
   "outputs": [
    {
     "name": "stdout",
     "output_type": "stream",
     "text": [
      "   stars  able  absolutely  actually  almost  also  always  amazing  amount  \\\n",
      "0      3   0.0         0.0       0.0     0.0   0.0     0.0      0.0     0.0   \n",
      "1      2   0.0         0.0       0.0     0.0   0.0     0.0      0.0     0.0   \n",
      "2      4   0.0         0.0       0.0     0.0   0.0     0.0      0.0     0.0   \n",
      "3      3   0.0         0.0       0.0     0.0   0.0     0.0      0.0     0.0   \n",
      "4      2   0.0         0.0       0.0     0.0   0.0     0.0      0.0     0.0   \n",
      "\n",
      "    another  ...  wont  work  working     worth     would  wouldnt     wrong  \\\n",
      "0  0.168147  ...   0.0   0.0      0.0  0.000000  0.000000      0.0  0.000000   \n",
      "1  0.000000  ...   0.0   0.0      0.0  0.000000  0.000000      0.0  0.000000   \n",
      "2  0.207039  ...   0.0   0.0      0.0  0.000000  0.000000      0.0  0.000000   \n",
      "3  0.128253  ...   0.0   0.0      0.0  0.000000  0.090665      0.0  0.000000   \n",
      "4  0.000000  ...   0.0   0.0      0.0  0.117374  0.000000      0.0  0.139791   \n",
      "\n",
      "   year  yet  youre  \n",
      "0   0.0  0.0    0.0  \n",
      "1   0.0  0.0    0.0  \n",
      "2   0.0  0.0    0.0  \n",
      "3   0.0  0.0    0.0  \n",
      "4   0.0  0.0    0.0  \n",
      "\n",
      "[5 rows x 401 columns]\n"
     ]
    }
   ],
   "source": [
    "df_data.columns = ['stars'] + feature_names.tolist()\n",
    "print(df_data.head())"
   ]
  },
  {
   "cell_type": "markdown",
   "metadata": {},
   "source": [
    "### *Save dataframe*"
   ]
  },
  {
   "cell_type": "code",
   "execution_count": 31,
   "metadata": {},
   "outputs": [
    {
     "name": "stdout",
     "output_type": "stream",
     "text": [
      "Wrote file to ./data/df_data.csv\n"
     ]
    }
   ],
   "source": [
    "path = \"./data/\"\n",
    "filename_write = os.path.join(path, \"df_data.csv\")\n",
    "df_data.to_csv(filename_write, index=False)\n",
    "print(\"Wrote file to {}\".format(filename_write))"
   ]
  }
 ],
 "metadata": {
  "kernelspec": {
   "display_name": "base",
   "language": "python",
   "name": "python3"
  },
  "language_info": {
   "codemirror_mode": {
    "name": "ipython",
    "version": 3
   },
   "file_extension": ".py",
   "mimetype": "text/x-python",
   "name": "python",
   "nbconvert_exporter": "python",
   "pygments_lexer": "ipython3",
   "version": "3.11.5"
  }
 },
 "nbformat": 4,
 "nbformat_minor": 2
}
