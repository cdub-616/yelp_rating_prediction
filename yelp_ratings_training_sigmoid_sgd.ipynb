{
 "cells": [
  {
   "cell_type": "markdown",
   "metadata": {},
   "source": [
    "# <u>Yelp Rating Prediction Using Tensorflow</u>"
   ]
  },
  {
   "cell_type": "markdown",
   "metadata": {},
   "source": [
    "## **Modeling (sigmoid and sgd):**"
   ]
  },
  {
   "cell_type": "markdown",
   "metadata": {},
   "source": [
    "### *Libraries*"
   ]
  },
  {
   "cell_type": "code",
   "execution_count": 1,
   "metadata": {},
   "outputs": [
    {
     "name": "stdout",
     "output_type": "stream",
     "text": [
      "WARNING:tensorflow:From c:\\Users\\cdub6\\anaconda3\\Lib\\site-packages\\keras\\src\\losses.py:2976: The name tf.losses.sparse_softmax_cross_entropy is deprecated. Please use tf.compat.v1.losses.sparse_softmax_cross_entropy instead.\n",
      "\n"
     ]
    }
   ],
   "source": [
    "import matplotlib.pyplot as plt\n",
    "%matplotlib inline\n",
    "\n",
    "from tensorflow.keras.models import load_model\n",
    "import numpy as np\n",
    "import pandas as pd\n",
    "import os\n",
    "\n",
    "from collections.abc import Sequence\n",
    "import sklearn.feature_extraction.text as sk_text\n",
    "from sklearn import preprocessing\n",
    "from sklearn.model_selection import train_test_split\n",
    "from sklearn.metrics import roc_curve, auc  \n",
    "from tensorflow.keras.models import Sequential\n",
    "from tensorflow.keras.layers import Dense#, Activation\n",
    "from tensorflow.keras.callbacks import EarlyStopping\n",
    "from tensorflow.keras.callbacks import ModelCheckpoint\n",
    "from sklearn import metrics as mt"
   ]
  },
  {
   "cell_type": "markdown",
   "metadata": {},
   "source": [
    "### *Functions*"
   ]
  },
  {
   "cell_type": "code",
   "execution_count": 2,
   "metadata": {},
   "outputs": [],
   "source": [
    "# from labs\n",
    "\n",
    "# Encode text values to dummy variables(i.e. [1,0,0],[0,1,0],[0,0,1] for red,green,blue)\n",
    "def encode_text_dummy(df, name):\n",
    "    dummies = pd.get_dummies(df[name])\n",
    "    for x in dummies.columns:\n",
    "        dummy_name = \"{}-{}\".format(name, x)\n",
    "        df[dummy_name] = dummies[x]\n",
    "    df.drop(name, axis=1, inplace=True)\n",
    "\n",
    "\n",
    "# Encode text values to indexes(i.e. [1],[2],[3] for red,green,blue).\n",
    "def encode_text_index(df, name):\n",
    "    le = preprocessing.LabelEncoder()\n",
    "    df[name] = le.fit_transform(df[name])\n",
    "    return le.classes_\n",
    "\n",
    "\n",
    "# Encode a numeric column as zscores\n",
    "def encode_numeric_zscore(df, name, mean=None, sd=None):\n",
    "    if mean is None:\n",
    "        mean = df[name].mean()\n",
    "\n",
    "    if sd is None:\n",
    "        sd = df[name].std()\n",
    "\n",
    "    df[name] = (df[name] - mean) / sd\n",
    "\n",
    "\n",
    "# Convert all missing values in the specified column to the median\n",
    "def missing_median(df, name):\n",
    "    med = df[name].median()\n",
    "    df[name] = df[name].fillna(med)\n",
    "\n",
    "\n",
    "# Convert all missing values in the specified column to the default\n",
    "def missing_default(df, name, default_value):\n",
    "    df[name] = df[name].fillna(default_value)\n",
    "\n",
    "\n",
    "# Convert a Pandas dataframe to the x,y inputs that TensorFlow needs\n",
    "def to_xy(df, target):\n",
    "    result = []\n",
    "    for x in df.columns:\n",
    "        if x != target:\n",
    "            result.append(x)\n",
    "    # find out the type of the target column.\n",
    "    target_type = df[target].dtypes\n",
    "    target_type = target_type[0] if isinstance(target_type, Sequence) else target_type\n",
    "    # Encode to int for classification, float otherwise. TensorFlow likes 32 bits.\n",
    "    if target_type in (np.int64, np.int32):\n",
    "        # Classification\n",
    "        dummies = pd.get_dummies(df[target])\n",
    "        return df[result].values.astype(np.float32), dummies.values.astype(np.float32)\n",
    "    else:\n",
    "        # Regression\n",
    "        return df[result].values.astype(np.float32), df[target].values.astype(np.float32)\n",
    "\n",
    "# Nicely formatted time string\n",
    "def hms_string(sec_elapsed):\n",
    "    h = int(sec_elapsed / (60 * 60))\n",
    "    m = int((sec_elapsed % (60 * 60)) / 60)\n",
    "    s = sec_elapsed % 60\n",
    "    return \"{}:{:>02}:{:>05.2f}\".format(h, m, s)\n",
    "\n",
    "# Regression chart.\n",
    "def chart_regression(pred,y,sort=True, sample_size=100, figsize=(15,10), title='Lift Chart, Random Sample'):\n",
    "    t = pd.DataFrame({'pred' : pred, 'y' : y.flatten()})\n",
    "    if sort:\n",
    "        t.sort_values(by=['y'],inplace=True)\n",
    "    if len(t) > sample_size:\n",
    "        t = t.sample(sample_size, random_state=42)\n",
    "    plt.figure(figsize=figsize)\n",
    "    plt.title(title)\n",
    "    a = plt.plot(t['y'].tolist(),label='expected')\n",
    "    b = plt.plot(t['pred'].tolist(),label='prediction')\n",
    "    plt.ylabel('output')\n",
    "    plt.legend()\n",
    "    plt.show()\n",
    "# Remove all rows where the specified column is +/- sd standard deviations\n",
    "def remove_outliers(df, name, sd):\n",
    "    drop_rows = df.index[(np.abs(df[name] - df[name].mean()) >= (sd * df[name].std()))]\n",
    "    df.drop(drop_rows, axis=0, inplace=True)\n",
    "\n",
    "\n",
    "# Encode a column to a range between normalized_low and normalized_high.\n",
    "def encode_numeric_range(df, name, normalized_low=-1, normalized_high=1,\n",
    "                         data_low=None, data_high=None):\n",
    "    if data_low is None:\n",
    "        data_low = min(df[name])\n",
    "        data_high = max(df[name])\n",
    "\n",
    "    df[name] = ((df[name] - data_low) / (data_high - data_low)) \\\n",
    "               * (normalized_high - normalized_low) + normalized_low\n",
    "    \n",
    "# Plot an ROC. pred - the predictions, y - the expected output.\n",
    "def plot_roc(pred,y):\n",
    "    fpr, tpr, thresholds = roc_curve(y, pred)\n",
    "    roc_auc = auc(fpr, tpr)\n",
    "\n",
    "    plt.figure()\n",
    "    plt.plot(fpr, tpr, label='ROC curve (area = %0.2f)' % roc_auc)\n",
    "    plt.plot([0, 1], [0, 1], 'k--')\n",
    "    plt.xlim([0.0, 1.0])\n",
    "    plt.ylim([0.0, 1.05])\n",
    "    plt.xlabel('False Positive Rate')\n",
    "    plt.ylabel('True Positive Rate')\n",
    "    plt.title('Receiver Operating Characteristic (ROC)')\n",
    "    plt.legend(loc=\"lower right\")\n",
    "    plt.show()\n",
    "\n",
    "def review(model, num):\n",
    "    #Turning business data into usable data for the model to predict\n",
    "    business = pd.read_csv('./business_data/df_business{}_reviews_processed.csv'.format(num))\n",
    "    average_stars = pd.read_csv('./business_data/df_five_businesses_info.csv')\n",
    "    average_stars = average_stars['stars'].iloc[num-1]\n",
    "\n",
    "    vectorizer = sk_text.TfidfVectorizer(min_df=.01, max_df=.99, max_features=350, dtype=np.float32) # can adjust max_features if encounter memory issues; dtype to reduce memory usage -> defaults to float64\n",
    "    corpus = business['processed_text']                                         # put preprocessed text into corpus\n",
    "    matrix = vectorizer.fit_transform(corpus)                                # fit and transform the corpus\n",
    "    tfidf_data = matrix.toarray()              # convert matrix to array\n",
    "    \n",
    "\n",
    "    # Predicting the data\n",
    "    business_predictions = model.predict(tfidf_data)\n",
    "\n",
    "    #Displaying data:\n",
    "    business_predicted = np.argmax(business_predictions, axis=1)\n",
    "    predicted_rating = pd.DataFrame(business_predicted, columns=['Predicted Stars'])\n",
    "    result = pd.concat([business['stars'], predicted_rating], axis=1)\n",
    "    mean = predicted_rating['Predicted Stars'].mean()\n",
    "    print(mean)\n",
    "    print('Average predicted rating was {}, and the actual rating was {}'.format(mean, average_stars))\n",
    "    accuracy = mt.accuracy_score(business['stars'], predicted_rating)\n",
    "    print(\"Accuracy score: {}\".format(accuracy))\n",
    "    score = np.sqrt(mt.mean_squared_error(predicted_rating, business['stars']))\n",
    "    print('RMSE: {}'.format(score))\n",
    "    print('The table with predicted and actual ratings: \\n{}'.format(result))"
   ]
  },
  {
   "cell_type": "markdown",
   "metadata": {},
   "source": [
    "### *Load dataframe from file*"
   ]
  },
  {
   "cell_type": "code",
   "execution_count": 3,
   "metadata": {},
   "outputs": [
    {
     "data": {
      "text/html": [
       "<div>\n",
       "<style scoped>\n",
       "    .dataframe tbody tr th:only-of-type {\n",
       "        vertical-align: middle;\n",
       "    }\n",
       "\n",
       "    .dataframe tbody tr th {\n",
       "        vertical-align: top;\n",
       "    }\n",
       "\n",
       "    .dataframe thead th {\n",
       "        text-align: right;\n",
       "    }\n",
       "</style>\n",
       "<table border=\"1\" class=\"dataframe\">\n",
       "  <thead>\n",
       "    <tr style=\"text-align: right;\">\n",
       "      <th></th>\n",
       "      <th>stars</th>\n",
       "      <th>able</th>\n",
       "      <th>absolutely</th>\n",
       "      <th>actually</th>\n",
       "      <th>almost</th>\n",
       "      <th>also</th>\n",
       "      <th>always</th>\n",
       "      <th>amazing</th>\n",
       "      <th>another</th>\n",
       "      <th>anything</th>\n",
       "      <th>...</th>\n",
       "      <th>wing</th>\n",
       "      <th>without</th>\n",
       "      <th>wonderful</th>\n",
       "      <th>wont</th>\n",
       "      <th>work</th>\n",
       "      <th>worth</th>\n",
       "      <th>would</th>\n",
       "      <th>wrong</th>\n",
       "      <th>year</th>\n",
       "      <th>youre</th>\n",
       "    </tr>\n",
       "  </thead>\n",
       "  <tbody>\n",
       "    <tr>\n",
       "      <th>0</th>\n",
       "      <td>3</td>\n",
       "      <td>0.0</td>\n",
       "      <td>0.0</td>\n",
       "      <td>0.0</td>\n",
       "      <td>0.0</td>\n",
       "      <td>0.0</td>\n",
       "      <td>0.0</td>\n",
       "      <td>0.0</td>\n",
       "      <td>0.168147</td>\n",
       "      <td>0.000000</td>\n",
       "      <td>...</td>\n",
       "      <td>0.0</td>\n",
       "      <td>0.0</td>\n",
       "      <td>0.0</td>\n",
       "      <td>0.0</td>\n",
       "      <td>0.0</td>\n",
       "      <td>0.000000</td>\n",
       "      <td>0.000000</td>\n",
       "      <td>0.000000</td>\n",
       "      <td>0.0</td>\n",
       "      <td>0.0</td>\n",
       "    </tr>\n",
       "    <tr>\n",
       "      <th>1</th>\n",
       "      <td>2</td>\n",
       "      <td>0.0</td>\n",
       "      <td>0.0</td>\n",
       "      <td>0.0</td>\n",
       "      <td>0.0</td>\n",
       "      <td>0.0</td>\n",
       "      <td>0.0</td>\n",
       "      <td>0.0</td>\n",
       "      <td>0.000000</td>\n",
       "      <td>0.000000</td>\n",
       "      <td>...</td>\n",
       "      <td>0.0</td>\n",
       "      <td>0.0</td>\n",
       "      <td>0.0</td>\n",
       "      <td>0.0</td>\n",
       "      <td>0.0</td>\n",
       "      <td>0.000000</td>\n",
       "      <td>0.000000</td>\n",
       "      <td>0.000000</td>\n",
       "      <td>0.0</td>\n",
       "      <td>0.0</td>\n",
       "    </tr>\n",
       "    <tr>\n",
       "      <th>2</th>\n",
       "      <td>4</td>\n",
       "      <td>0.0</td>\n",
       "      <td>0.0</td>\n",
       "      <td>0.0</td>\n",
       "      <td>0.0</td>\n",
       "      <td>0.0</td>\n",
       "      <td>0.0</td>\n",
       "      <td>0.0</td>\n",
       "      <td>0.262300</td>\n",
       "      <td>0.000000</td>\n",
       "      <td>...</td>\n",
       "      <td>0.0</td>\n",
       "      <td>0.0</td>\n",
       "      <td>0.0</td>\n",
       "      <td>0.0</td>\n",
       "      <td>0.0</td>\n",
       "      <td>0.000000</td>\n",
       "      <td>0.000000</td>\n",
       "      <td>0.000000</td>\n",
       "      <td>0.0</td>\n",
       "      <td>0.0</td>\n",
       "    </tr>\n",
       "    <tr>\n",
       "      <th>3</th>\n",
       "      <td>3</td>\n",
       "      <td>0.0</td>\n",
       "      <td>0.0</td>\n",
       "      <td>0.0</td>\n",
       "      <td>0.0</td>\n",
       "      <td>0.0</td>\n",
       "      <td>0.0</td>\n",
       "      <td>0.0</td>\n",
       "      <td>0.128253</td>\n",
       "      <td>0.000000</td>\n",
       "      <td>...</td>\n",
       "      <td>0.0</td>\n",
       "      <td>0.0</td>\n",
       "      <td>0.0</td>\n",
       "      <td>0.0</td>\n",
       "      <td>0.0</td>\n",
       "      <td>0.000000</td>\n",
       "      <td>0.090665</td>\n",
       "      <td>0.000000</td>\n",
       "      <td>0.0</td>\n",
       "      <td>0.0</td>\n",
       "    </tr>\n",
       "    <tr>\n",
       "      <th>4</th>\n",
       "      <td>2</td>\n",
       "      <td>0.0</td>\n",
       "      <td>0.0</td>\n",
       "      <td>0.0</td>\n",
       "      <td>0.0</td>\n",
       "      <td>0.0</td>\n",
       "      <td>0.0</td>\n",
       "      <td>0.0</td>\n",
       "      <td>0.000000</td>\n",
       "      <td>0.129936</td>\n",
       "      <td>...</td>\n",
       "      <td>0.0</td>\n",
       "      <td>0.0</td>\n",
       "      <td>0.0</td>\n",
       "      <td>0.0</td>\n",
       "      <td>0.0</td>\n",
       "      <td>0.118585</td>\n",
       "      <td>0.000000</td>\n",
       "      <td>0.141233</td>\n",
       "      <td>0.0</td>\n",
       "      <td>0.0</td>\n",
       "    </tr>\n",
       "  </tbody>\n",
       "</table>\n",
       "<p>5 rows × 351 columns</p>\n",
       "</div>"
      ],
      "text/plain": [
       "   stars  able  absolutely  actually  almost  also  always  amazing   another  \\\n",
       "0      3   0.0         0.0       0.0     0.0   0.0     0.0      0.0  0.168147   \n",
       "1      2   0.0         0.0       0.0     0.0   0.0     0.0      0.0  0.000000   \n",
       "2      4   0.0         0.0       0.0     0.0   0.0     0.0      0.0  0.262300   \n",
       "3      3   0.0         0.0       0.0     0.0   0.0     0.0      0.0  0.128253   \n",
       "4      2   0.0         0.0       0.0     0.0   0.0     0.0      0.0  0.000000   \n",
       "\n",
       "   anything  ...  wing  without  wonderful  wont  work     worth     would  \\\n",
       "0  0.000000  ...   0.0      0.0        0.0   0.0   0.0  0.000000  0.000000   \n",
       "1  0.000000  ...   0.0      0.0        0.0   0.0   0.0  0.000000  0.000000   \n",
       "2  0.000000  ...   0.0      0.0        0.0   0.0   0.0  0.000000  0.000000   \n",
       "3  0.000000  ...   0.0      0.0        0.0   0.0   0.0  0.000000  0.090665   \n",
       "4  0.129936  ...   0.0      0.0        0.0   0.0   0.0  0.118585  0.000000   \n",
       "\n",
       "      wrong  year  youre  \n",
       "0  0.000000   0.0    0.0  \n",
       "1  0.000000   0.0    0.0  \n",
       "2  0.000000   0.0    0.0  \n",
       "3  0.000000   0.0    0.0  \n",
       "4  0.141233   0.0    0.0  \n",
       "\n",
       "[5 rows x 351 columns]"
      ]
     },
     "execution_count": 3,
     "metadata": {},
     "output_type": "execute_result"
    }
   ],
   "source": [
    "df = pd.read_csv(\"data/df_data.csv\")\n",
    "df.head()"
   ]
  },
  {
   "cell_type": "markdown",
   "metadata": {},
   "source": [
    "### *Use dataframe to configure x, y*"
   ]
  },
  {
   "cell_type": "code",
   "execution_count": 4,
   "metadata": {},
   "outputs": [],
   "source": [
    "x, y = to_xy(df, 'stars')"
   ]
  },
  {
   "cell_type": "markdown",
   "metadata": {},
   "source": [
    "### *x info*"
   ]
  },
  {
   "cell_type": "code",
   "execution_count": 5,
   "metadata": {},
   "outputs": [
    {
     "name": "stdout",
     "output_type": "stream",
     "text": [
      "shape: (6146631, 350)\n",
      "[[0. 0. 0. ... 0. 0. 0.]\n",
      " [0. 0. 0. ... 0. 0. 0.]\n",
      " [0. 0. 0. ... 0. 0. 0.]\n",
      " ...\n",
      " [0. 0. 0. ... 0. 0. 0.]\n",
      " [0. 0. 0. ... 0. 0. 0.]\n",
      " [0. 0. 0. ... 0. 0. 0.]]\n"
     ]
    }
   ],
   "source": [
    "print('shape:', x.shape)\n",
    "print(x)"
   ]
  },
  {
   "cell_type": "markdown",
   "metadata": {},
   "source": [
    "### *y info*"
   ]
  },
  {
   "cell_type": "code",
   "execution_count": 6,
   "metadata": {},
   "outputs": [
    {
     "name": "stdout",
     "output_type": "stream",
     "text": [
      "shape: (6146631, 5)\n",
      "[[0. 0. 1. 0. 0.]\n",
      " [0. 1. 0. 0. 0.]\n",
      " [0. 0. 0. 1. 0.]\n",
      " ...\n",
      " [0. 0. 0. 0. 1.]\n",
      " [0. 0. 0. 0. 1.]\n",
      " [0. 0. 0. 0. 1.]]\n"
     ]
    }
   ],
   "source": [
    "print('shape:', y.shape)\n",
    "print(y)"
   ]
  },
  {
   "cell_type": "markdown",
   "metadata": {},
   "source": [
    "### *Separate test and train sets*"
   ]
  },
  {
   "cell_type": "code",
   "execution_count": 7,
   "metadata": {},
   "outputs": [],
   "source": [
    "x_train, x_test, y_train, y_test = train_test_split(x, y, test_size=0.20, random_state=42)"
   ]
  },
  {
   "cell_type": "markdown",
   "metadata": {},
   "source": [
    "### *Train model*"
   ]
  },
  {
   "cell_type": "code",
   "execution_count": 8,
   "metadata": {},
   "outputs": [
    {
     "name": "stdout",
     "output_type": "stream",
     "text": [
      "WARNING:tensorflow:From c:\\Users\\cdub6\\anaconda3\\Lib\\site-packages\\keras\\src\\backend.py:873: The name tf.get_default_graph is deprecated. Please use tf.compat.v1.get_default_graph instead.\n",
      "\n",
      "WARNING:tensorflow:From c:\\Users\\cdub6\\anaconda3\\Lib\\site-packages\\keras\\src\\optimizers\\__init__.py:309: The name tf.train.Optimizer is deprecated. Please use tf.compat.v1.train.Optimizer instead.\n",
      "\n",
      "Epoch 1/100\n",
      "WARNING:tensorflow:From c:\\Users\\cdub6\\anaconda3\\Lib\\site-packages\\keras\\src\\utils\\tf_utils.py:492: The name tf.ragged.RaggedTensorValue is deprecated. Please use tf.compat.v1.ragged.RaggedTensorValue instead.\n",
      "\n",
      "\n",
      "Epoch 1: val_loss improved from inf to 0.14112, saving model to dnn\\sigmoid_sgd_best_weights.hdf5\n",
      "153666/153666 - 201s - loss: 0.1411 - val_loss: 0.1411 - 201s/epoch - 1ms/step\n",
      "Epoch 2/100\n"
     ]
    },
    {
     "name": "stderr",
     "output_type": "stream",
     "text": [
      "c:\\Users\\cdub6\\anaconda3\\Lib\\site-packages\\keras\\src\\engine\\training.py:3103: UserWarning: You are saving your model as an HDF5 file via `model.save()`. This file format is considered legacy. We recommend using instead the native Keras format, e.g. `model.save('my_model.keras')`.\n",
      "  saving_api.save_model(\n"
     ]
    },
    {
     "name": "stdout",
     "output_type": "stream",
     "text": [
      "\n",
      "Epoch 2: val_loss improved from 0.14112 to 0.14108, saving model to dnn\\sigmoid_sgd_best_weights.hdf5\n",
      "153666/153666 - 185s - loss: 0.1410 - val_loss: 0.1411 - 185s/epoch - 1ms/step\n",
      "Epoch 3/100\n",
      "\n",
      "Epoch 3: val_loss improved from 0.14108 to 0.14093, saving model to dnn\\sigmoid_sgd_best_weights.hdf5\n",
      "153666/153666 - 185s - loss: 0.1409 - val_loss: 0.1409 - 185s/epoch - 1ms/step\n",
      "Epoch 3: early stopping\n"
     ]
    },
    {
     "data": {
      "text/plain": [
       "<keras.src.callbacks.History at 0x1bf10d3a550>"
      ]
     },
     "execution_count": 8,
     "metadata": {},
     "output_type": "execute_result"
    }
   ],
   "source": [
    "\n",
    "\n",
    "# create sequential model\n",
    "model = Sequential()\n",
    "model.add(Dense(350, input_dim=x.shape[1], activation='sigmoid'))\n",
    "model.add(Dense(177, activation='sigmoid'))\n",
    "model.add(Dense(y.shape[1], activation='softmax'))\n",
    "model.compile(loss='mean_squared_error', optimizer='sgd')\n",
    "\n",
    "monitor = EarlyStopping(monitor='val_loss', min_delta=1e-3, patience=2, verbose=2, mode='auto')\n",
    "\n",
    "checkpointer = ModelCheckpoint(filepath=\"dnn/sigmoid_sgd_best_weights.hdf5\", verbose=2, save_best_only=True)\n",
    "\n",
    "model.fit(x_train, y_train, validation_data=(x_test, y_test), callbacks=[monitor, checkpointer], verbose=2, epochs=100)"
   ]
  },
  {
   "cell_type": "markdown",
   "metadata": {},
   "source": [
    "### *Load best model*"
   ]
  },
  {
   "cell_type": "code",
   "execution_count": 9,
   "metadata": {},
   "outputs": [
    {
     "name": "stdout",
     "output_type": "stream",
     "text": [
      "Training finished...Loading the best model\n"
     ]
    }
   ],
   "source": [
    "# skip if you want to see current model results\n",
    "print('Training finished...Loading the best model')\n",
    "model.load_weights('dnn/sigmoid_sgd_best_weights.hdf5')"
   ]
  },
  {
   "cell_type": "markdown",
   "metadata": {},
   "source": [
    "### *Optional start point*"
   ]
  },
  {
   "cell_type": "code",
   "execution_count": 3,
   "metadata": {},
   "outputs": [
    {
     "name": "stdout",
     "output_type": "stream",
     "text": [
      "WARNING:tensorflow:From c:\\Users\\andre\\anaconda3\\Lib\\site-packages\\keras\\src\\backend.py:1398: The name tf.executing_eagerly_outside_functions is deprecated. Please use tf.compat.v1.executing_eagerly_outside_functions instead.\n",
      "\n"
     ]
    }
   ],
   "source": [
    "# if starting here:  load library, functions, load dataframe, configure x,y, and train/test split cells before running this cell\n",
    "path = \"./dnn/\"\n",
    "model = load_model(os.path.join(path, \"sigmoid_sgd_best_weights.hdf5\"))"
   ]
  },
  {
   "cell_type": "markdown",
   "metadata": {},
   "source": [
    "### *Model prediction*"
   ]
  },
  {
   "cell_type": "code",
   "execution_count": 11,
   "metadata": {},
   "outputs": [
    {
     "name": "stdout",
     "output_type": "stream",
     "text": [
      "38417/38417 [==============================] - 32s 829us/step\n",
      "Shape: (1229327, 5)\n",
      "[[0.14358562 0.08195835 0.10445628 0.21709213 0.45290765]\n",
      " [0.14330637 0.08191334 0.10427579 0.21752636 0.45297825]\n",
      " [0.14445968 0.08262753 0.10522354 0.21761866 0.45007062]\n",
      " ...\n",
      " [0.14418258 0.08232772 0.10476884 0.21810198 0.4506188 ]\n",
      " [0.14397344 0.08230081 0.10475906 0.21739666 0.45157003]\n",
      " [0.14319624 0.0817398  0.10436705 0.21680892 0.453888  ]]\n"
     ]
    }
   ],
   "source": [
    "\n",
    "prediction = model.predict(x_test)\n",
    "print(\"Shape: {}\".format(prediction.shape))\n",
    "print(prediction)"
   ]
  },
  {
   "cell_type": "markdown",
   "metadata": {},
   "source": [
    "## **Results:**"
   ]
  },
  {
   "cell_type": "markdown",
   "metadata": {},
   "source": [
    "### *Predictions vs. Actual*"
   ]
  },
  {
   "cell_type": "code",
   "execution_count": 12,
   "metadata": {},
   "outputs": [
    {
     "name": "stdout",
     "output_type": "stream",
     "text": [
      "Predictions: [4 4 4 ... 4 4 4]\n",
      "Actual: [4 2 0 ... 0 4 0]\n"
     ]
    }
   ],
   "source": [
    "predicted_stars = np.argmax(prediction, axis=1)\n",
    "true_stars = np.argmax(y_test, axis=1)\n",
    "print(\"Predictions: {}\".format(predicted_stars))\n",
    "print(\"Actual: {}\".format(true_stars))"
   ]
  },
  {
   "cell_type": "markdown",
   "metadata": {},
   "source": [
    "### *Accuracy*"
   ]
  },
  {
   "cell_type": "code",
   "execution_count": 13,
   "metadata": {},
   "outputs": [
    {
     "name": "stdout",
     "output_type": "stream",
     "text": [
      "Accuracy score: 0.45812871595596616\n"
     ]
    }
   ],
   "source": [
    "accuracy = mt.accuracy_score(true_stars, predicted_stars)\n",
    "print(\"Accuracy score: {}\".format(accuracy))"
   ]
  },
  {
   "cell_type": "markdown",
   "metadata": {},
   "source": [
    "### *Precision*"
   ]
  },
  {
   "cell_type": "code",
   "execution_count": 14,
   "metadata": {},
   "outputs": [
    {
     "name": "stdout",
     "output_type": "stream",
     "text": [
      "Precision score: 0.20988192038346232\n"
     ]
    },
    {
     "name": "stderr",
     "output_type": "stream",
     "text": [
      "c:\\Users\\cdub6\\anaconda3\\Lib\\site-packages\\sklearn\\metrics\\_classification.py:1344: UndefinedMetricWarning: Precision is ill-defined and being set to 0.0 in labels with no predicted samples. Use `zero_division` parameter to control this behavior.\n",
      "  _warn_prf(average, modifier, msg_start, len(result))\n"
     ]
    }
   ],
   "source": [
    "precision = mt.precision_score(true_stars, predicted_stars, average=\"weighted\")\n",
    "print(\"Precision score: {}\".format(precision))\n"
   ]
  },
  {
   "cell_type": "markdown",
   "metadata": {},
   "source": [
    "### *Recall score*"
   ]
  },
  {
   "cell_type": "code",
   "execution_count": 15,
   "metadata": {},
   "outputs": [
    {
     "name": "stdout",
     "output_type": "stream",
     "text": [
      "Recall score: 0.45812871595596616\n"
     ]
    }
   ],
   "source": [
    "recall = mt.recall_score(true_stars, predicted_stars, average=\"weighted\")\n",
    "print(\"Recall score: {}\".format(recall))"
   ]
  },
  {
   "cell_type": "markdown",
   "metadata": {},
   "source": [
    "### *F1 score*"
   ]
  },
  {
   "cell_type": "code",
   "execution_count": 16,
   "metadata": {},
   "outputs": [
    {
     "name": "stdout",
     "output_type": "stream",
     "text": [
      "F1 score: 0.2878784541951241\n"
     ]
    }
   ],
   "source": [
    "f1 = mt.f1_score(true_stars, predicted_stars, average=\"weighted\")\n",
    "print(\"F1 score: {}\".format(f1))"
   ]
  },
  {
   "cell_type": "markdown",
   "metadata": {},
   "source": [
    "### *Log score*"
   ]
  },
  {
   "cell_type": "code",
   "execution_count": 17,
   "metadata": {},
   "outputs": [
    {
     "name": "stdout",
     "output_type": "stream",
     "text": [
      "Log loss score: 1.4001070334576775\n"
     ]
    }
   ],
   "source": [
    "log_score = mt.log_loss(y_test, prediction)\n",
    "print(\"Log loss score: {}\".format(log_score))"
   ]
  },
  {
   "cell_type": "markdown",
   "metadata": {},
   "source": [
    "### *Classification report*"
   ]
  },
  {
   "cell_type": "code",
   "execution_count": 18,
   "metadata": {},
   "outputs": [
    {
     "name": "stderr",
     "output_type": "stream",
     "text": [
      "c:\\Users\\cdub6\\anaconda3\\Lib\\site-packages\\sklearn\\metrics\\_classification.py:1344: UndefinedMetricWarning: Precision and F-score are ill-defined and being set to 0.0 in labels with no predicted samples. Use `zero_division` parameter to control this behavior.\n",
      "  _warn_prf(average, modifier, msg_start, len(result))\n",
      "c:\\Users\\cdub6\\anaconda3\\Lib\\site-packages\\sklearn\\metrics\\_classification.py:1344: UndefinedMetricWarning: Precision and F-score are ill-defined and being set to 0.0 in labels with no predicted samples. Use `zero_division` parameter to control this behavior.\n",
      "  _warn_prf(average, modifier, msg_start, len(result))\n"
     ]
    },
    {
     "name": "stdout",
     "output_type": "stream",
     "text": [
      "              precision    recall  f1-score   support\n",
      "\n",
      "           0       0.00      0.00      0.00    172632\n",
      "           1       0.00      0.00      0.00     98018\n",
      "           2       0.00      0.00      0.00    127331\n",
      "           3       0.00      0.00      0.00    268156\n",
      "           4       0.46      1.00      0.63    563190\n",
      "\n",
      "    accuracy                           0.46   1229327\n",
      "   macro avg       0.09      0.20      0.13   1229327\n",
      "weighted avg       0.21      0.46      0.29   1229327\n",
      "\n"
     ]
    },
    {
     "name": "stderr",
     "output_type": "stream",
     "text": [
      "c:\\Users\\cdub6\\anaconda3\\Lib\\site-packages\\sklearn\\metrics\\_classification.py:1344: UndefinedMetricWarning: Precision and F-score are ill-defined and being set to 0.0 in labels with no predicted samples. Use `zero_division` parameter to control this behavior.\n",
      "  _warn_prf(average, modifier, msg_start, len(result))\n"
     ]
    }
   ],
   "source": [
    "print(mt.classification_report(true_stars, predicted_stars))"
   ]
  },
  {
   "cell_type": "markdown",
   "metadata": {},
   "source": [
    "### *Mean Squared Error (MSE)*"
   ]
  },
  {
   "cell_type": "code",
   "execution_count": 19,
   "metadata": {},
   "outputs": [
    {
     "name": "stdout",
     "output_type": "stream",
     "text": [
      "Final score (MSE): 0.14092130959033966\n"
     ]
    }
   ],
   "source": [
    "mse = mt.mean_squared_error(prediction, y_test)\n",
    "print('Final score (MSE): {}'.format(mse))\n"
   ]
  },
  {
   "cell_type": "markdown",
   "metadata": {},
   "source": [
    "### *Root Mean Squared Error (RMSE)*"
   ]
  },
  {
   "cell_type": "code",
   "execution_count": 20,
   "metadata": {},
   "outputs": [
    {
     "name": "stdout",
     "output_type": "stream",
     "text": [
      "Final score (RMSE): 0.37539488077163696\n"
     ]
    }
   ],
   "source": [
    "score = np.sqrt(mt.mean_squared_error(prediction, y_test))\n",
    "print('Final score (RMSE): {}'.format(score))"
   ]
  },
  {
   "cell_type": "markdown",
   "metadata": {},
   "source": [
    "### *Actual vs. predicted*"
   ]
  },
  {
   "cell_type": "code",
   "execution_count": 21,
   "metadata": {},
   "outputs": [
    {
     "data": {
      "text/html": [
       "<div>\n",
       "<style scoped>\n",
       "    .dataframe tbody tr th:only-of-type {\n",
       "        vertical-align: middle;\n",
       "    }\n",
       "\n",
       "    .dataframe tbody tr th {\n",
       "        vertical-align: top;\n",
       "    }\n",
       "\n",
       "    .dataframe thead th {\n",
       "        text-align: right;\n",
       "    }\n",
       "</style>\n",
       "<table border=\"1\" class=\"dataframe\">\n",
       "  <thead>\n",
       "    <tr style=\"text-align: right;\">\n",
       "      <th></th>\n",
       "      <th>actual</th>\n",
       "      <th>predicted</th>\n",
       "    </tr>\n",
       "  </thead>\n",
       "  <tbody>\n",
       "    <tr>\n",
       "      <th>0</th>\n",
       "      <td>4</td>\n",
       "      <td>4</td>\n",
       "    </tr>\n",
       "    <tr>\n",
       "      <th>1</th>\n",
       "      <td>2</td>\n",
       "      <td>4</td>\n",
       "    </tr>\n",
       "    <tr>\n",
       "      <th>2</th>\n",
       "      <td>0</td>\n",
       "      <td>4</td>\n",
       "    </tr>\n",
       "    <tr>\n",
       "      <th>3</th>\n",
       "      <td>3</td>\n",
       "      <td>4</td>\n",
       "    </tr>\n",
       "    <tr>\n",
       "      <th>4</th>\n",
       "      <td>2</td>\n",
       "      <td>4</td>\n",
       "    </tr>\n",
       "    <tr>\n",
       "      <th>...</th>\n",
       "      <td>...</td>\n",
       "      <td>...</td>\n",
       "    </tr>\n",
       "    <tr>\n",
       "      <th>1229322</th>\n",
       "      <td>3</td>\n",
       "      <td>4</td>\n",
       "    </tr>\n",
       "    <tr>\n",
       "      <th>1229323</th>\n",
       "      <td>3</td>\n",
       "      <td>4</td>\n",
       "    </tr>\n",
       "    <tr>\n",
       "      <th>1229324</th>\n",
       "      <td>0</td>\n",
       "      <td>4</td>\n",
       "    </tr>\n",
       "    <tr>\n",
       "      <th>1229325</th>\n",
       "      <td>4</td>\n",
       "      <td>4</td>\n",
       "    </tr>\n",
       "    <tr>\n",
       "      <th>1229326</th>\n",
       "      <td>0</td>\n",
       "      <td>4</td>\n",
       "    </tr>\n",
       "  </tbody>\n",
       "</table>\n",
       "<p>1229327 rows × 2 columns</p>\n",
       "</div>"
      ],
      "text/plain": [
       "         actual  predicted\n",
       "0             4          4\n",
       "1             2          4\n",
       "2             0          4\n",
       "3             3          4\n",
       "4             2          4\n",
       "...         ...        ...\n",
       "1229322       3          4\n",
       "1229323       3          4\n",
       "1229324       0          4\n",
       "1229325       4          4\n",
       "1229326       0          4\n",
       "\n",
       "[1229327 rows x 2 columns]"
      ]
     },
     "execution_count": 21,
     "metadata": {},
     "output_type": "execute_result"
    }
   ],
   "source": [
    "df_y = pd.DataFrame(true_stars, columns=['actual'])\n",
    "df_pred = pd.DataFrame(predicted_stars, columns=['predicted'])\n",
    "result = pd.concat([df_y, df_pred], axis=1)\n",
    "result"
   ]
  },
  {
   "cell_type": "markdown",
   "metadata": {},
   "source": [
    "### *Regression lift chart*"
   ]
  },
  {
   "cell_type": "code",
   "execution_count": 22,
   "metadata": {},
   "outputs": [
    {
     "data": {
      "image/png": "[encoded data removed]",
      "text/plain": [
       "<Figure size 1500x1000 with 1 Axes>"
      ]
     },
     "metadata": {},
     "output_type": "display_data"
    }
   ],
   "source": [
    "chart_regression(prediction.flatten(), y_test, sort=True)"
   ]
  },
  {
   "cell_type": "markdown",
   "metadata": {},
   "source": [
    "## **Comparing Predictions to Business Reviews**"
   ]
  },
  {
   "cell_type": "markdown",
   "metadata": {},
   "source": [
    "### *Information for businesses used with model*"
   ]
  },
  {
   "cell_type": "code",
   "execution_count": 2,
   "metadata": {},
   "outputs": [
    {
     "name": "stdout",
     "output_type": "stream",
     "text": [
      "              business_id                       name  stars  review_count  \\\n",
      "0  Jv8lYSZPxY0rzkSpgo7BIw  Big Boyz Burgers and More    4.0            22   \n",
      "1  7k9qGQyytbGxpJTnwxK6Xg         QDOBA Mexican Eats    3.0            40   \n",
      "2  v_vqna00z6WqKcIJZDkbAw                    C Nails    4.5            61   \n",
      "3  zsQ1_PNV3KN0EWhAE-WV9g  Tohono Chul Garden Bistro    4.0           165   \n",
      "4  v2L2HnZzYvHPgFcVBg2TUw             Summerland Inn    2.0            56   \n",
      "\n",
      "                                          categories  \n",
      "0  American (Traditional), Diners, Breakfast & Br...  \n",
      "1  Restaurants, Event Planning & Services, Mexica...  \n",
      "2   Waxing, Hair Removal, Nail Salons, Beauty & Spas  \n",
      "3  American (New), Venues & Event Spaces, Restaur...  \n",
      "4  Hotels, Hotels & Travel, Bed & Breakfast, Even...  \n"
     ]
    }
   ],
   "source": [
    "df = pd.read_csv(\"./business_data/df_five_businesses_info.csv\")\n",
    "print(df)"
   ]
  },
  {
   "cell_type": "markdown",
   "metadata": {},
   "source": [
    "### *Big Boys Burgers and More*"
   ]
  },
  {
   "cell_type": "code",
   "execution_count": 4,
   "metadata": {},
   "outputs": [
    {
     "name": "stdout",
     "output_type": "stream",
     "text": [
      "1/1 [==============================] - 1s 1s/step\n",
      "4.0\n",
      "Average predicted rating was 4.0, and the actual rating was 4.0\n",
      "Accuracy score: 0.21739130434782608\n",
      "RMSE: 1.285369173834303\n",
      "The table with predicted and actual ratings: \n",
      "    stars  Predicted Stars\n",
      "0       5                4\n",
      "1       4                4\n",
      "2       5                4\n",
      "3       5                4\n",
      "4       5                4\n",
      "5       5                4\n",
      "6       5                4\n",
      "7       5                4\n",
      "8       3                4\n",
      "9       4                4\n",
      "10      4                4\n",
      "11      5                4\n",
      "12      5                4\n",
      "13      5                4\n",
      "14      4                4\n",
      "15      1                4\n",
      "16      2                4\n",
      "17      3                4\n",
      "18      2                4\n",
      "19      4                4\n",
      "20      2                4\n",
      "21      3                4\n",
      "22      2                4\n"
     ]
    }
   ],
   "source": [
    "review(model, 1)"
   ]
  },
  {
   "cell_type": "markdown",
   "metadata": {},
   "source": [
    "### *QDOBA Mexican Eats*"
   ]
  },
  {
   "cell_type": "code",
   "execution_count": 5,
   "metadata": {},
   "outputs": [
    {
     "name": "stdout",
     "output_type": "stream",
     "text": [
      "2/2 [==============================] - 0s 9ms/step\n",
      "4.0\n",
      "Average predicted rating was 4.0, and the actual rating was 3.0\n",
      "Accuracy score: 0.175\n",
      "RMSE: 1.8096961070853856\n",
      "The table with predicted and actual ratings: \n",
      "    stars  Predicted Stars\n",
      "0       5                4\n",
      "1       2                4\n",
      "2       5                4\n",
      "3       5                4\n",
      "4       2                4\n",
      "5       2                4\n",
      "6       3                4\n",
      "7       5                4\n",
      "8       4                4\n",
      "9       2                4\n",
      "10      1                4\n",
      "11      5                4\n",
      "12      3                4\n",
      "13      4                4\n",
      "14      4                4\n",
      "15      5                4\n",
      "16      3                4\n",
      "17      3                4\n",
      "18      1                4\n",
      "19      1                4\n",
      "20      3                4\n",
      "21      1                4\n",
      "22      1                4\n",
      "23      4                4\n",
      "24      3                4\n",
      "25      2                4\n",
      "26      1                4\n",
      "27      4                4\n",
      "28      5                4\n",
      "29      5                4\n",
      "30      3                4\n",
      "31      3                4\n",
      "32      1                4\n",
      "33      4                4\n",
      "34      1                4\n",
      "35      1                4\n",
      "36      2                4\n",
      "37      4                4\n",
      "38      5                4\n",
      "39      1                4\n"
     ]
    }
   ],
   "source": [
    "review(model, 2)"
   ]
  },
  {
   "cell_type": "markdown",
   "metadata": {},
   "source": [
    "### *C Nails*"
   ]
  },
  {
   "cell_type": "code",
   "execution_count": 6,
   "metadata": {},
   "outputs": [
    {
     "name": "stdout",
     "output_type": "stream",
     "text": [
      "2/2 [==============================] - 0s 9ms/step\n",
      "4.0\n",
      "Average predicted rating was 4.0, and the actual rating was 4.5\n",
      "Accuracy score: 0.0967741935483871\n",
      "RMSE: 1.2313119150962784\n",
      "The table with predicted and actual ratings: \n",
      "    stars  Predicted Stars\n",
      "0       5                4\n",
      "1       1                4\n",
      "2       5                4\n",
      "3       5                4\n",
      "4       5                4\n",
      "..    ...              ...\n",
      "57      1                4\n",
      "58      4                4\n",
      "59      5                4\n",
      "60      4                4\n",
      "61      5                4\n",
      "\n",
      "[62 rows x 2 columns]\n"
     ]
    }
   ],
   "source": [
    "review(model, 3)"
   ]
  },
  {
   "cell_type": "markdown",
   "metadata": {},
   "source": [
    "### *Tohono Chul Garden Bistro*"
   ]
  },
  {
   "cell_type": "code",
   "execution_count": 7,
   "metadata": {},
   "outputs": [
    {
     "name": "stdout",
     "output_type": "stream",
     "text": [
      "6/6 [==============================] - 0s 8ms/step\n",
      "4.0\n",
      "Average predicted rating was 4.0, and the actual rating was 4.0\n",
      "Accuracy score: 0.26436781609195403\n",
      "RMSE: 1.364576478442026\n",
      "The table with predicted and actual ratings: \n",
      "     stars  Predicted Stars\n",
      "0        3                4\n",
      "1        4                4\n",
      "2        5                4\n",
      "3        3                4\n",
      "4        5                4\n",
      "..     ...              ...\n",
      "169      5                4\n",
      "170      5                4\n",
      "171      4                4\n",
      "172      1                4\n",
      "173      5                4\n",
      "\n",
      "[174 rows x 2 columns]\n"
     ]
    }
   ],
   "source": [
    "review(model, 4)"
   ]
  },
  {
   "cell_type": "markdown",
   "metadata": {},
   "source": [
    "### *Summerland Inn*"
   ]
  },
  {
   "cell_type": "code",
   "execution_count": 8,
   "metadata": {},
   "outputs": [
    {
     "name": "stdout",
     "output_type": "stream",
     "text": [
      "2/2 [==============================] - 0s 6ms/step\n",
      "4.0\n",
      "Average predicted rating was 4.0, and the actual rating was 2.0\n",
      "Accuracy score: 0.13793103448275862\n",
      "RMSE: 2.4670238946049396\n",
      "The table with predicted and actual ratings: \n",
      "    stars  Predicted Stars\n",
      "0       1                4\n",
      "1       1                4\n",
      "2       5                4\n",
      "3       3                4\n",
      "4       5                4\n",
      "5       1                4\n",
      "6       4                4\n",
      "7       1                4\n",
      "8       1                4\n",
      "9       1                4\n",
      "10      1                4\n",
      "11      4                4\n",
      "12      1                4\n",
      "13      1                4\n",
      "14      1                4\n",
      "15      1                4\n",
      "16      1                4\n",
      "17      4                4\n",
      "18      1                4\n",
      "19      4                4\n",
      "20      3                4\n",
      "21      3                4\n",
      "22      4                4\n",
      "23      1                4\n",
      "24      1                4\n",
      "25      1                4\n",
      "26      2                4\n",
      "27      4                4\n",
      "28      1                4\n",
      "29      2                4\n",
      "30      5                4\n",
      "31      1                4\n",
      "32      1                4\n",
      "33      1                4\n",
      "34      1                4\n",
      "35      1                4\n",
      "36      5                4\n",
      "37      2                4\n",
      "38      4                4\n",
      "39      1                4\n",
      "40      2                4\n",
      "41      1                4\n",
      "42      1                4\n",
      "43      1                4\n",
      "44      5                4\n",
      "45      3                4\n",
      "46      4                4\n",
      "47      1                4\n",
      "48      2                4\n",
      "49      1                4\n",
      "50      1                4\n",
      "51      1                4\n",
      "52      1                4\n",
      "53      1                4\n",
      "54      1                4\n",
      "55      1                4\n",
      "56      1                4\n",
      "57      1                4\n"
     ]
    }
   ],
   "source": [
    "review(model, 5)"
   ]
  }
 ],
 "metadata": {
  "kernelspec": {
   "display_name": "base",
   "language": "python",
   "name": "python3"
  },
  "language_info": {
   "codemirror_mode": {
    "name": "ipython",
    "version": 3
   },
   "file_extension": ".py",
   "mimetype": "text/x-python",
   "name": "python",
   "nbconvert_exporter": "python",
   "pygments_lexer": "ipython3",
   "version": "3.11.5"
  }
 },
 "nbformat": 4,
 "nbformat_minor": 2
}
